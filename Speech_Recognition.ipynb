{
 "cells": [
  {
   "cell_type": "markdown",
   "metadata": {
    "colab_type": "text",
    "id": "t86Uuoyn2qGR"
   },
   "source": [
    "### **Speech Recognition**"
   ]
  },
  {
   "cell_type": "code",
   "execution_count": 43,
   "metadata": {
    "colab": {
     "base_uri": "https://localhost:8080/",
     "height": 54
    },
    "colab_type": "code",
    "id": "1adGfdLF2lId",
    "outputId": "b22b6764-2c20-4b99-8e45-59ed01974ac7"
   },
   "outputs": [
    {
     "name": "stdout",
     "output_type": "stream",
     "text": [
      "Requirement already satisfied: SpeechRecognition in /usr/local/lib/python3.7/site-packages (3.8.1)\n",
      "Requirement already satisfied: pyaudio in /usr/local/lib/python3.7/site-packages (0.2.11)\n"
     ]
    }
   ],
   "source": [
    "!pip3 install SpeechRecognition\n",
    "!pip3 install pyaudio\n",
    "import speech_recognition as sr"
   ]
  },
  {
   "cell_type": "code",
   "execution_count": 44,
   "metadata": {
    "colab": {},
    "colab_type": "code",
    "id": "j-6iSD3q2nWa"
   },
   "outputs": [],
   "source": [
    "# create a Recognizer instance\n",
    "r = sr.Recognizer()"
   ]
  },
  {
   "cell_type": "code",
   "execution_count": 45,
   "metadata": {
    "colab": {
     "base_uri": "https://localhost:8080/",
     "height": 54
    },
    "colab_type": "code",
    "id": "-oIhdS5l236V",
    "outputId": "2678218d-a619-4c92-e642-9cb5af5f3743"
   },
   "outputs": [
    {
     "data": {
      "text/plain": [
       "'the stale smell of old beer lingers it takes heat to bring out the odor a cold dip restores health and zest a salt pickle taste fine with ham tacos al Pastore are my favorite a zestful food is be hot cross bun'"
      ]
     },
     "execution_count": 45,
     "metadata": {},
     "output_type": "execute_result"
    }
   ],
   "source": [
    "harvard = sr.AudioFile('audio_files/harvard.wav')\n",
    "with harvard as source:\n",
    "    audio = r.record(source)\n",
    "r.recognize_google(audio)"
   ]
  },
  {
   "cell_type": "code",
   "execution_count": 46,
   "metadata": {
    "colab": {
     "base_uri": "https://localhost:8080/",
     "height": 34
    },
    "colab_type": "code",
    "id": "104VGqM43DrS",
    "outputId": "b9e1da4e-36ba-4d71-88d3-598fbb035dc1"
   },
   "outputs": [
    {
     "data": {
      "text/plain": [
       "'it takes heat to bring out the odor'"
      ]
     },
     "execution_count": 46,
     "metadata": {},
     "output_type": "execute_result"
    }
   ],
   "source": [
    "# offset: starting point\n",
    "with harvard as source:\n",
    "    audio = r.record(source, offset=4, duration=3)\n",
    "r.recognize_google(audio)"
   ]
  },
  {
   "cell_type": "code",
   "execution_count": 47,
   "metadata": {
    "colab": {
     "base_uri": "https://localhost:8080/",
     "height": 34
    },
    "colab_type": "code",
    "id": "GHZmhNpy3yk7",
    "outputId": "e79cb872-b85d-40dd-e205-292a16b36e81"
   },
   "outputs": [
    {
     "data": {
      "text/plain": [
       "'the snail smelly old gear vendors'"
      ]
     },
     "execution_count": 47,
     "metadata": {},
     "output_type": "execute_result"
    }
   ],
   "source": [
    "jackhammer = sr.AudioFile('audio_files/jackhammer.wav')\n",
    "with jackhammer as source:\n",
    "    audio = r.record(source)\n",
    "r.recognize_google(audio)"
   ]
  },
  {
   "cell_type": "code",
   "execution_count": 48,
   "metadata": {
    "colab": {
     "base_uri": "https://localhost:8080/",
     "height": 34
    },
    "colab_type": "code",
    "id": "pju_mq6t5W1a",
    "outputId": "a6e9e7b3-ddce-414b-87e2-b34461e278d5"
   },
   "outputs": [
    {
     "data": {
      "text/plain": [
       "'Bill smell like old beer drinkers'"
      ]
     },
     "execution_count": 48,
     "metadata": {},
     "output_type": "execute_result"
    }
   ],
   "source": [
    "with jackhammer as source:\n",
    "    r.adjust_for_ambient_noise(source)\n",
    "    audio = r.record(source)\n",
    "r.recognize_google(audio)"
   ]
  },
  {
   "cell_type": "code",
   "execution_count": 49,
   "metadata": {
    "colab": {
     "base_uri": "https://localhost:8080/",
     "height": 34
    },
    "colab_type": "code",
    "id": "y0Xx3jyV5ptC",
    "outputId": "ba885ae2-f2bb-44fe-bffa-311ff8e439ee"
   },
   "outputs": [
    {
     "data": {
      "text/plain": [
       "'the stale smell of old gear vendors'"
      ]
     },
     "execution_count": 49,
     "metadata": {},
     "output_type": "execute_result"
    }
   ],
   "source": [
    "with jackhammer as source:\n",
    "    r.adjust_for_ambient_noise(source, duration=0.5)\n",
    "    audio = r.record(source)\n",
    "r.recognize_google(audio)"
   ]
  },
  {
   "cell_type": "code",
   "execution_count": 50,
   "metadata": {
    "colab": {
     "base_uri": "https://localhost:8080/",
     "height": 204
    },
    "colab_type": "code",
    "id": "H-czWu0Y6bKm",
    "outputId": "1fb45742-b4af-4b24-e1af-3e3650a9bf5c"
   },
   "outputs": [
    {
     "data": {
      "text/plain": [
       "{'alternative': [{'transcript': 'the stale smell of old gear vendors'},\n",
       "  {'transcript': 'does still smell old gear vendors'},\n",
       "  {'transcript': 'the smell smell of old gear vendors'},\n",
       "  {'transcript': 'the snail smell of old gear vendors'},\n",
       "  {'transcript': 'the still smell of old gear vendors'},\n",
       "  {'transcript': 'the snail smelly old gear vendors'},\n",
       "  {'transcript': 'the still smell old gear vendors'},\n",
       "  {'transcript': 'does still sell old gear vendors'},\n",
       "  {'transcript': 'does still smell old gear winters'}],\n",
       " 'final': True}"
      ]
     },
     "execution_count": 50,
     "metadata": {},
     "output_type": "execute_result"
    }
   ],
   "source": [
    "r.recognize_google(audio, show_all=True)"
   ]
  },
  {
   "cell_type": "markdown",
   "metadata": {
    "colab_type": "text",
    "id": "RkLUAj4-8Eyp"
   },
   "source": [
    "#### **Working With Microphones**"
   ]
  },
  {
   "cell_type": "code",
   "execution_count": 51,
   "metadata": {
    "colab": {},
    "colab_type": "code",
    "id": "4QIkc_sC7YoV"
   },
   "outputs": [],
   "source": [
    "mic = sr.Microphone()"
   ]
  },
  {
   "cell_type": "code",
   "execution_count": 52,
   "metadata": {},
   "outputs": [
    {
     "data": {
      "text/plain": [
       "['HP Z27',\n",
       " 'Built-in Microphone',\n",
       " 'Built-in Output',\n",
       " 'Eric’s AirPods Pro',\n",
       " 'Eric’s AirPods Pro']"
      ]
     },
     "execution_count": 52,
     "metadata": {},
     "output_type": "execute_result"
    }
   ],
   "source": [
    "sr.Microphone.list_microphone_names()"
   ]
  },
  {
   "cell_type": "code",
   "execution_count": 53,
   "metadata": {},
   "outputs": [],
   "source": [
    "mic = sr.Microphone(device_index=3)"
   ]
  },
  {
   "cell_type": "code",
   "execution_count": 54,
   "metadata": {},
   "outputs": [],
   "source": [
    "with mic as source:\n",
    "    audio = r.listen(source)"
   ]
  },
  {
   "cell_type": "code",
   "execution_count": 55,
   "metadata": {},
   "outputs": [
    {
     "data": {
      "text/plain": [
       "'哈喽'"
      ]
     },
     "execution_count": 55,
     "metadata": {},
     "output_type": "execute_result"
    }
   ],
   "source": [
    "r.recognize_google(audio, language=\"zh\")"
   ]
  },
  {
   "cell_type": "markdown",
   "metadata": {},
   "source": [
    "#### **A \"Guess the Word\" Game**"
   ]
  },
  {
   "cell_type": "code",
   "execution_count": 18,
   "metadata": {},
   "outputs": [],
   "source": [
    "import time\n",
    "import random\n",
    "import speech_recognition as sr"
   ]
  },
  {
   "cell_type": "code",
   "execution_count": 20,
   "metadata": {},
   "outputs": [],
   "source": [
    "def recognize_speech_from_mic(recognizer, microphone):\n",
    "    \n",
    "    # check that recognizer and microphone arguments are appropriate type\n",
    "    if not isinstance(recognizer, sr.Recognizer):\n",
    "        raise TypeError(\"`recognizer` must be `Recognizer` instance\")\n",
    "    \n",
    "    if not isinstance(microphone, sr.Microphone):\n",
    "        raise TypeError(\"`microphone` must be `Microphone` instance\")\n",
    "\n",
    "    with microphone as source:\n",
    "        recognizer.adjust_for_ambient_noise(source)\n",
    "        audio = recognizer.listen(source)\n",
    "\n",
    "    response = {\n",
    "        \"success\": True,\n",
    "        \"error\": None,\n",
    "        \"transcription\": None\n",
    "    }\n",
    "\n",
    "    try:\n",
    "        response[\"transcription\"] = recognizer.recognize_google(audio)\n",
    "    except sr.RequestError:\n",
    "        response[\"success\"] = False\n",
    "        response[\"error\"] = \"API unavailable\"\n",
    "    except sr.UnknownValueError:\n",
    "        response[\"error\"] = \"Unable to recognize speech\"\n",
    "\n",
    "    return response"
   ]
  },
  {
   "cell_type": "code",
   "execution_count": 28,
   "metadata": {},
   "outputs": [
    {
     "name": "stdout",
     "output_type": "stream",
     "text": [
      "I'm thinking of one of these words:\n",
      "apple, banana, grape, orange, mango, lemon\n",
      "You have 3 tries to guess which one.\n",
      "\n",
      "Guess 1. Speak!\n",
      "I didn't catch that. What did you say?\n",
      "\n",
      "Guess 1. Speak!\n",
      "I didn't catch that. What did you say?\n",
      "\n",
      "Guess 1. Speak!\n",
      "I didn't catch that. What did you say?\n",
      "\n",
      "Guess 1. Speak!\n",
      "I didn't catch that. What did you say?\n",
      "\n",
      "Guess 1. Speak!\n",
      "I didn't catch that. What did you say?\n",
      "\n",
      "ERROR: Unable to recognize speech\n"
     ]
    }
   ],
   "source": [
    "WORDS = [\"apple\", \"banana\", \"grape\", \"orange\", \"mango\", \"lemon\"]\n",
    "NUM_GUESSES = 3\n",
    "PROMPT_LIMIT = 5\n",
    "\n",
    "recognizer = sr.Recognizer()\n",
    "microphone = sr.Microphone()\n",
    "\n",
    "word = random.choice(WORDS)\n",
    "\n",
    "instructions = (\n",
    "    \"I'm thinking of one of these words:\\n\"\n",
    "    \"{words}\\n\"\n",
    "    \"You have {n} tries to guess which one.\\n\"\n",
    ").format(words=', '.join(WORDS), n=NUM_GUESSES)\n",
    "\n",
    "# show instructions and wait 3 seconds before starting the game\n",
    "print(instructions)\n",
    "time.sleep(3)\n",
    "\n",
    "for i in range(NUM_GUESSES):\n",
    "    for j in range(PROMPT_LIMIT):\n",
    "        print('Guess {}. Speak!'.format(i+1))\n",
    "        guess = recognize_speech_from_mic(recognizer, microphone)\n",
    "        if guess[\"transcription\"]:\n",
    "            break\n",
    "        if not guess[\"success\"]:\n",
    "            break\n",
    "        print(\"I didn't catch that. What did you say?\\n\")\n",
    "\n",
    "    if guess[\"error\"]:\n",
    "        print(\"ERROR: {}\".format(guess[\"error\"]))\n",
    "        break\n",
    "\n",
    "    print(\"You said: {}\".format(guess[\"transcription\"]))\n",
    "\n",
    "    guess_is_correct = guess[\"transcription\"].lower() == word.lower()\n",
    "    user_has_more_attempts = i < NUM_GUESSES - 1\n",
    "\n",
    "    if guess_is_correct:\n",
    "        print(\"Correct! You win!\".format(word))\n",
    "        break\n",
    "    elif user_has_more_attempts:\n",
    "        print(\"Incorrect. Try again.\\n\")\n",
    "    else:\n",
    "        print(\"Sorry, you lose!\\nI was thinking of '{}'.\".format(word))\n",
    "        break"
   ]
  },
  {
   "cell_type": "code",
   "execution_count": null,
   "metadata": {},
   "outputs": [],
   "source": []
  }
 ],
 "metadata": {
  "colab": {
   "name": "Speech Recognition.ipynb",
   "provenance": []
  },
  "kernelspec": {
   "display_name": "Python 3",
   "language": "python",
   "name": "python3"
  },
  "language_info": {
   "codemirror_mode": {
    "name": "ipython",
    "version": 3
   },
   "file_extension": ".py",
   "mimetype": "text/x-python",
   "name": "python",
   "nbconvert_exporter": "python",
   "pygments_lexer": "ipython3",
   "version": "3.7.7"
  }
 },
 "nbformat": 4,
 "nbformat_minor": 1
}
